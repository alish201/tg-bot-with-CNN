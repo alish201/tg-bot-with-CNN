{
  "nbformat": 4,
  "nbformat_minor": 0,
  "metadata": {
    "colab": {
      "provenance": []
    },
    "kernelspec": {
      "name": "python3",
      "display_name": "Python 3"
    },
    "language_info": {
      "name": "python"
    },
    "accelerator": "GPU",
    "gpuClass": "standard"
  },
  "cells": [
    {
      "cell_type": "code",
      "execution_count": 1,
      "metadata": {
        "colab": {
          "base_uri": "https://localhost:8080/"
        },
        "id": "MmCkNwPEx-df",
        "outputId": "ebef1acf-7d6b-4211-fffc-81bb23b2945d"
      },
      "outputs": [
        {
          "output_type": "stream",
          "name": "stdout",
          "text": [
            "Looking in indexes: https://pypi.org/simple, https://us-python.pkg.dev/colab-wheels/public/simple/\n",
            "Requirement already satisfied: tensorflow in /usr/local/lib/python3.8/dist-packages (2.11.0)\n",
            "Requirement already satisfied: typing-extensions>=3.6.6 in /usr/local/lib/python3.8/dist-packages (from tensorflow) (4.5.0)\n",
            "Requirement already satisfied: numpy>=1.20 in /usr/local/lib/python3.8/dist-packages (from tensorflow) (1.21.6)\n",
            "Requirement already satisfied: keras<2.12,>=2.11.0 in /usr/local/lib/python3.8/dist-packages (from tensorflow) (2.11.0)\n",
            "Requirement already satisfied: flatbuffers>=2.0 in /usr/local/lib/python3.8/dist-packages (from tensorflow) (23.1.21)\n",
            "Requirement already satisfied: libclang>=13.0.0 in /usr/local/lib/python3.8/dist-packages (from tensorflow) (15.0.6.1)\n",
            "Requirement already satisfied: google-pasta>=0.1.1 in /usr/local/lib/python3.8/dist-packages (from tensorflow) (0.2.0)\n",
            "Requirement already satisfied: tensorflow-io-gcs-filesystem>=0.23.1 in /usr/local/lib/python3.8/dist-packages (from tensorflow) (0.30.0)\n",
            "Requirement already satisfied: astunparse>=1.6.0 in /usr/local/lib/python3.8/dist-packages (from tensorflow) (1.6.3)\n",
            "Requirement already satisfied: protobuf<3.20,>=3.9.2 in /usr/local/lib/python3.8/dist-packages (from tensorflow) (3.19.6)\n",
            "Requirement already satisfied: opt-einsum>=2.3.2 in /usr/local/lib/python3.8/dist-packages (from tensorflow) (3.3.0)\n",
            "Requirement already satisfied: wrapt>=1.11.0 in /usr/local/lib/python3.8/dist-packages (from tensorflow) (1.14.1)\n",
            "Requirement already satisfied: termcolor>=1.1.0 in /usr/local/lib/python3.8/dist-packages (from tensorflow) (2.2.0)\n",
            "Requirement already satisfied: six>=1.12.0 in /usr/local/lib/python3.8/dist-packages (from tensorflow) (1.15.0)\n",
            "Requirement already satisfied: h5py>=2.9.0 in /usr/local/lib/python3.8/dist-packages (from tensorflow) (3.1.0)\n",
            "Requirement already satisfied: tensorboard<2.12,>=2.11 in /usr/local/lib/python3.8/dist-packages (from tensorflow) (2.11.2)\n",
            "Requirement already satisfied: grpcio<2.0,>=1.24.3 in /usr/local/lib/python3.8/dist-packages (from tensorflow) (1.51.1)\n",
            "Requirement already satisfied: gast<=0.4.0,>=0.2.1 in /usr/local/lib/python3.8/dist-packages (from tensorflow) (0.4.0)\n",
            "Requirement already satisfied: setuptools in /usr/local/lib/python3.8/dist-packages (from tensorflow) (57.4.0)\n",
            "Requirement already satisfied: tensorflow-estimator<2.12,>=2.11.0 in /usr/local/lib/python3.8/dist-packages (from tensorflow) (2.11.0)\n",
            "Requirement already satisfied: packaging in /usr/local/lib/python3.8/dist-packages (from tensorflow) (23.0)\n",
            "Requirement already satisfied: absl-py>=1.0.0 in /usr/local/lib/python3.8/dist-packages (from tensorflow) (1.4.0)\n",
            "Requirement already satisfied: wheel<1.0,>=0.23.0 in /usr/local/lib/python3.8/dist-packages (from astunparse>=1.6.0->tensorflow) (0.38.4)\n",
            "Requirement already satisfied: tensorboard-plugin-wit>=1.6.0 in /usr/local/lib/python3.8/dist-packages (from tensorboard<2.12,>=2.11->tensorflow) (1.8.1)\n",
            "Requirement already satisfied: google-auth<3,>=1.6.3 in /usr/local/lib/python3.8/dist-packages (from tensorboard<2.12,>=2.11->tensorflow) (2.16.0)\n",
            "Requirement already satisfied: markdown>=2.6.8 in /usr/local/lib/python3.8/dist-packages (from tensorboard<2.12,>=2.11->tensorflow) (3.4.1)\n",
            "Requirement already satisfied: requests<3,>=2.21.0 in /usr/local/lib/python3.8/dist-packages (from tensorboard<2.12,>=2.11->tensorflow) (2.25.1)\n",
            "Requirement already satisfied: tensorboard-data-server<0.7.0,>=0.6.0 in /usr/local/lib/python3.8/dist-packages (from tensorboard<2.12,>=2.11->tensorflow) (0.6.1)\n",
            "Requirement already satisfied: werkzeug>=1.0.1 in /usr/local/lib/python3.8/dist-packages (from tensorboard<2.12,>=2.11->tensorflow) (1.0.1)\n",
            "Requirement already satisfied: google-auth-oauthlib<0.5,>=0.4.1 in /usr/local/lib/python3.8/dist-packages (from tensorboard<2.12,>=2.11->tensorflow) (0.4.6)\n",
            "Requirement already satisfied: cachetools<6.0,>=2.0.0 in /usr/local/lib/python3.8/dist-packages (from google-auth<3,>=1.6.3->tensorboard<2.12,>=2.11->tensorflow) (5.3.0)\n",
            "Requirement already satisfied: rsa<5,>=3.1.4 in /usr/local/lib/python3.8/dist-packages (from google-auth<3,>=1.6.3->tensorboard<2.12,>=2.11->tensorflow) (4.9)\n",
            "Requirement already satisfied: pyasn1-modules>=0.2.1 in /usr/local/lib/python3.8/dist-packages (from google-auth<3,>=1.6.3->tensorboard<2.12,>=2.11->tensorflow) (0.2.8)\n",
            "Requirement already satisfied: requests-oauthlib>=0.7.0 in /usr/local/lib/python3.8/dist-packages (from google-auth-oauthlib<0.5,>=0.4.1->tensorboard<2.12,>=2.11->tensorflow) (1.3.1)\n",
            "Requirement already satisfied: importlib-metadata>=4.4 in /usr/local/lib/python3.8/dist-packages (from markdown>=2.6.8->tensorboard<2.12,>=2.11->tensorflow) (6.0.0)\n",
            "Requirement already satisfied: chardet<5,>=3.0.2 in /usr/local/lib/python3.8/dist-packages (from requests<3,>=2.21.0->tensorboard<2.12,>=2.11->tensorflow) (4.0.0)\n",
            "Requirement already satisfied: idna<3,>=2.5 in /usr/local/lib/python3.8/dist-packages (from requests<3,>=2.21.0->tensorboard<2.12,>=2.11->tensorflow) (2.10)\n",
            "Requirement already satisfied: urllib3<1.27,>=1.21.1 in /usr/local/lib/python3.8/dist-packages (from requests<3,>=2.21.0->tensorboard<2.12,>=2.11->tensorflow) (1.24.3)\n",
            "Requirement already satisfied: certifi>=2017.4.17 in /usr/local/lib/python3.8/dist-packages (from requests<3,>=2.21.0->tensorboard<2.12,>=2.11->tensorflow) (2022.12.7)\n",
            "Requirement already satisfied: zipp>=0.5 in /usr/local/lib/python3.8/dist-packages (from importlib-metadata>=4.4->markdown>=2.6.8->tensorboard<2.12,>=2.11->tensorflow) (3.13.0)\n",
            "Requirement already satisfied: pyasn1<0.5.0,>=0.4.6 in /usr/local/lib/python3.8/dist-packages (from pyasn1-modules>=0.2.1->google-auth<3,>=1.6.3->tensorboard<2.12,>=2.11->tensorflow) (0.4.8)\n",
            "Requirement already satisfied: oauthlib>=3.0.0 in /usr/local/lib/python3.8/dist-packages (from requests-oauthlib>=0.7.0->google-auth-oauthlib<0.5,>=0.4.1->tensorboard<2.12,>=2.11->tensorflow) (3.2.2)\n",
            "Looking in indexes: https://pypi.org/simple, https://us-python.pkg.dev/colab-wheels/public/simple/\n",
            "Requirement already satisfied: keras in /usr/local/lib/python3.8/dist-packages (2.11.0)\n",
            "Looking in indexes: https://pypi.org/simple, https://us-python.pkg.dev/colab-wheels/public/simple/\n",
            "Requirement already satisfied: tensorflow-addons in /usr/local/lib/python3.8/dist-packages (0.19.0)\n",
            "Requirement already satisfied: typeguard>=2.7 in /usr/local/lib/python3.8/dist-packages (from tensorflow-addons) (2.7.1)\n",
            "Requirement already satisfied: packaging in /usr/local/lib/python3.8/dist-packages (from tensorflow-addons) (23.0)\n"
          ]
        }
      ],
      "source": [
        "!pip install tensorflow\n",
        "!pip install keras\n",
        "!pip install -q kaggle\n",
        "!pip install tensorflow-addons\n"
      ]
    },
    {
      "cell_type": "code",
      "source": [
        "from google.colab import files\n",
        "files.upload()"
      ],
      "metadata": {
        "colab": {
          "base_uri": "https://localhost:8080/",
          "height": 89
        },
        "id": "2RWokjzryCCw",
        "outputId": "536f1f06-eae2-44bb-d1e7-41c03442f0e7"
      },
      "execution_count": 2,
      "outputs": [
        {
          "output_type": "display_data",
          "data": {
            "text/plain": [
              "<IPython.core.display.HTML object>"
            ],
            "text/html": [
              "\n",
              "     <input type=\"file\" id=\"files-7a017e97-6a59-4ea2-bb64-93c59a7b945c\" name=\"files[]\" multiple disabled\n",
              "        style=\"border:none\" />\n",
              "     <output id=\"result-7a017e97-6a59-4ea2-bb64-93c59a7b945c\">\n",
              "      Upload widget is only available when the cell has been executed in the\n",
              "      current browser session. Please rerun this cell to enable.\n",
              "      </output>\n",
              "      <script>// Copyright 2017 Google LLC\n",
              "//\n",
              "// Licensed under the Apache License, Version 2.0 (the \"License\");\n",
              "// you may not use this file except in compliance with the License.\n",
              "// You may obtain a copy of the License at\n",
              "//\n",
              "//      http://www.apache.org/licenses/LICENSE-2.0\n",
              "//\n",
              "// Unless required by applicable law or agreed to in writing, software\n",
              "// distributed under the License is distributed on an \"AS IS\" BASIS,\n",
              "// WITHOUT WARRANTIES OR CONDITIONS OF ANY KIND, either express or implied.\n",
              "// See the License for the specific language governing permissions and\n",
              "// limitations under the License.\n",
              "\n",
              "/**\n",
              " * @fileoverview Helpers for google.colab Python module.\n",
              " */\n",
              "(function(scope) {\n",
              "function span(text, styleAttributes = {}) {\n",
              "  const element = document.createElement('span');\n",
              "  element.textContent = text;\n",
              "  for (const key of Object.keys(styleAttributes)) {\n",
              "    element.style[key] = styleAttributes[key];\n",
              "  }\n",
              "  return element;\n",
              "}\n",
              "\n",
              "// Max number of bytes which will be uploaded at a time.\n",
              "const MAX_PAYLOAD_SIZE = 100 * 1024;\n",
              "\n",
              "function _uploadFiles(inputId, outputId) {\n",
              "  const steps = uploadFilesStep(inputId, outputId);\n",
              "  const outputElement = document.getElementById(outputId);\n",
              "  // Cache steps on the outputElement to make it available for the next call\n",
              "  // to uploadFilesContinue from Python.\n",
              "  outputElement.steps = steps;\n",
              "\n",
              "  return _uploadFilesContinue(outputId);\n",
              "}\n",
              "\n",
              "// This is roughly an async generator (not supported in the browser yet),\n",
              "// where there are multiple asynchronous steps and the Python side is going\n",
              "// to poll for completion of each step.\n",
              "// This uses a Promise to block the python side on completion of each step,\n",
              "// then passes the result of the previous step as the input to the next step.\n",
              "function _uploadFilesContinue(outputId) {\n",
              "  const outputElement = document.getElementById(outputId);\n",
              "  const steps = outputElement.steps;\n",
              "\n",
              "  const next = steps.next(outputElement.lastPromiseValue);\n",
              "  return Promise.resolve(next.value.promise).then((value) => {\n",
              "    // Cache the last promise value to make it available to the next\n",
              "    // step of the generator.\n",
              "    outputElement.lastPromiseValue = value;\n",
              "    return next.value.response;\n",
              "  });\n",
              "}\n",
              "\n",
              "/**\n",
              " * Generator function which is called between each async step of the upload\n",
              " * process.\n",
              " * @param {string} inputId Element ID of the input file picker element.\n",
              " * @param {string} outputId Element ID of the output display.\n",
              " * @return {!Iterable<!Object>} Iterable of next steps.\n",
              " */\n",
              "function* uploadFilesStep(inputId, outputId) {\n",
              "  const inputElement = document.getElementById(inputId);\n",
              "  inputElement.disabled = false;\n",
              "\n",
              "  const outputElement = document.getElementById(outputId);\n",
              "  outputElement.innerHTML = '';\n",
              "\n",
              "  const pickedPromise = new Promise((resolve) => {\n",
              "    inputElement.addEventListener('change', (e) => {\n",
              "      resolve(e.target.files);\n",
              "    });\n",
              "  });\n",
              "\n",
              "  const cancel = document.createElement('button');\n",
              "  inputElement.parentElement.appendChild(cancel);\n",
              "  cancel.textContent = 'Cancel upload';\n",
              "  const cancelPromise = new Promise((resolve) => {\n",
              "    cancel.onclick = () => {\n",
              "      resolve(null);\n",
              "    };\n",
              "  });\n",
              "\n",
              "  // Wait for the user to pick the files.\n",
              "  const files = yield {\n",
              "    promise: Promise.race([pickedPromise, cancelPromise]),\n",
              "    response: {\n",
              "      action: 'starting',\n",
              "    }\n",
              "  };\n",
              "\n",
              "  cancel.remove();\n",
              "\n",
              "  // Disable the input element since further picks are not allowed.\n",
              "  inputElement.disabled = true;\n",
              "\n",
              "  if (!files) {\n",
              "    return {\n",
              "      response: {\n",
              "        action: 'complete',\n",
              "      }\n",
              "    };\n",
              "  }\n",
              "\n",
              "  for (const file of files) {\n",
              "    const li = document.createElement('li');\n",
              "    li.append(span(file.name, {fontWeight: 'bold'}));\n",
              "    li.append(span(\n",
              "        `(${file.type || 'n/a'}) - ${file.size} bytes, ` +\n",
              "        `last modified: ${\n",
              "            file.lastModifiedDate ? file.lastModifiedDate.toLocaleDateString() :\n",
              "                                    'n/a'} - `));\n",
              "    const percent = span('0% done');\n",
              "    li.appendChild(percent);\n",
              "\n",
              "    outputElement.appendChild(li);\n",
              "\n",
              "    const fileDataPromise = new Promise((resolve) => {\n",
              "      const reader = new FileReader();\n",
              "      reader.onload = (e) => {\n",
              "        resolve(e.target.result);\n",
              "      };\n",
              "      reader.readAsArrayBuffer(file);\n",
              "    });\n",
              "    // Wait for the data to be ready.\n",
              "    let fileData = yield {\n",
              "      promise: fileDataPromise,\n",
              "      response: {\n",
              "        action: 'continue',\n",
              "      }\n",
              "    };\n",
              "\n",
              "    // Use a chunked sending to avoid message size limits. See b/62115660.\n",
              "    let position = 0;\n",
              "    do {\n",
              "      const length = Math.min(fileData.byteLength - position, MAX_PAYLOAD_SIZE);\n",
              "      const chunk = new Uint8Array(fileData, position, length);\n",
              "      position += length;\n",
              "\n",
              "      const base64 = btoa(String.fromCharCode.apply(null, chunk));\n",
              "      yield {\n",
              "        response: {\n",
              "          action: 'append',\n",
              "          file: file.name,\n",
              "          data: base64,\n",
              "        },\n",
              "      };\n",
              "\n",
              "      let percentDone = fileData.byteLength === 0 ?\n",
              "          100 :\n",
              "          Math.round((position / fileData.byteLength) * 100);\n",
              "      percent.textContent = `${percentDone}% done`;\n",
              "\n",
              "    } while (position < fileData.byteLength);\n",
              "  }\n",
              "\n",
              "  // All done.\n",
              "  yield {\n",
              "    response: {\n",
              "      action: 'complete',\n",
              "    }\n",
              "  };\n",
              "}\n",
              "\n",
              "scope.google = scope.google || {};\n",
              "scope.google.colab = scope.google.colab || {};\n",
              "scope.google.colab._files = {\n",
              "  _uploadFiles,\n",
              "  _uploadFilesContinue,\n",
              "};\n",
              "})(self);\n",
              "</script> "
            ]
          },
          "metadata": {}
        },
        {
          "output_type": "stream",
          "name": "stdout",
          "text": [
            "Saving kaggle.json to kaggle (3).json\n"
          ]
        },
        {
          "output_type": "execute_result",
          "data": {
            "text/plain": [
              "{'kaggle.json': b'{\"username\":\"gagegong\",\"key\":\"41b3f5d2843e61800a0f47250cda72f3\"}'}"
            ]
          },
          "metadata": {},
          "execution_count": 2
        }
      ]
    },
    {
      "cell_type": "code",
      "source": [
        "! mkdir ~/.kaggle"
      ],
      "metadata": {
        "id": "tlDi4uRHyCQe",
        "colab": {
          "base_uri": "https://localhost:8080/"
        },
        "outputId": "1f528176-f30a-47df-9273-191aa259bf1b"
      },
      "execution_count": 3,
      "outputs": [
        {
          "output_type": "stream",
          "name": "stdout",
          "text": [
            "mkdir: cannot create directory ‘/root/.kaggle’: File exists\n"
          ]
        }
      ]
    },
    {
      "cell_type": "code",
      "source": [
        "!cp kaggle.json ~/.kaggle/"
      ],
      "metadata": {
        "id": "Xwp5ujNdyCj1"
      },
      "execution_count": 4,
      "outputs": []
    },
    {
      "cell_type": "code",
      "source": [
        "! chmod 600 ~/.kaggle/kaggle.json"
      ],
      "metadata": {
        "id": "-abKC2YOyCvx"
      },
      "execution_count": 5,
      "outputs": []
    },
    {
      "cell_type": "code",
      "source": [
        "!kaggle datasets list"
      ],
      "metadata": {
        "colab": {
          "base_uri": "https://localhost:8080/"
        },
        "id": "j2C7k3KqyDEU",
        "outputId": "d7891afd-d45f-432c-f34b-896bfda991a7"
      },
      "execution_count": 6,
      "outputs": [
        {
          "output_type": "stream",
          "name": "stdout",
          "text": [
            "ref                                                        title                                       size  lastUpdated          downloadCount  voteCount  usabilityRating  \n",
            "---------------------------------------------------------  -----------------------------------------  -----  -------------------  -------------  ---------  ---------------  \n",
            "themrityunjaypathak/covid-cases-and-deaths-worldwide       Covid Cases and Deaths WorldWide             8KB  2023-02-01 12:22:51           3485         91  1.0              \n",
            "datascientistanna/customers-dataset                        Shop Customer Data                          23KB  2023-02-07 18:42:21           2508         70  1.0              \n",
            "rajugc/imdb-top-250-movies-dataset                         IMDB Top 250 Movies Dataset                 52KB  2023-02-11 16:02:01            934         38  1.0              \n",
            "ahsan81/hotel-reservations-classification-dataset          Hotel Reservations Dataset                 480KB  2023-01-04 12:50:31          12473        396  1.0              \n",
            "adityamishraml/nasaexoplanets                              NASA Exoplanets                            114KB  2023-02-15 18:12:58            384         23  1.0              \n",
            "georgejnr/used-and-new-cars-datasets                       Used and New Cars Datasets                   2MB  2023-02-09 12:37:06            917         28  0.88235295       \n",
            "mattop/nutrition-physical-activity-and-obesity             Nutrition, Physical Activity, and Obesity    3MB  2023-02-12 15:24:33            759         24  1.0              \n",
            "karkavelrajaj/amazon-sales-dataset                         Amazon Sales Dataset                         2MB  2023-01-17 06:21:15           5138        106  1.0              \n",
            "thedevastator/domestic-food-prices-after-covid-19          Domestic Food Prices After COVID-19          1MB  2023-02-13 01:45:15            846         28  0.9411765        \n",
            "themrityunjaypathak/most-subscribed-1000-youtube-channels  Most Subscribed 1000 Youtube Channels       28KB  2023-01-21 14:42:05           4321        119  1.0              \n",
            "googleai/musiccaps                                         MusicCaps                                  793KB  2023-01-25 09:25:48           2915        245  0.9411765        \n",
            "anas123siddiqui/laptops                                    Laptops                                     44KB  2023-02-05 18:11:41           1580         46  1.0              \n",
            "ulrikthygepedersen/airlines-delay                          Airlines Delay                               6MB  2023-02-01 13:49:34            838         27  1.0              \n",
            "anas123siddiqui/happiness-index-data                       Happiness Index data                         5KB  2023-02-13 16:17:17            520         26  1.0              \n",
            "antonkozyriev/game-recommendations-on-steam                Game Recommendations on Steam              112MB  2023-02-17 20:52:42            608         29  1.0              \n",
            "ulrikthygepedersen/speed-dating                            Speed Dating                               434KB  2023-02-10 08:58:51            378         24  1.0              \n",
            "thedevastator/high-tech-companies-on-nasdaq                High-Tech Companies on NASDAQ              383KB  2023-02-11 12:09:00            351         25  0.9411765        \n",
            "thedevastator/employee-attrition-and-factors               Employee Attrition and Factors              50KB  2023-02-11 04:31:57            625         27  1.0              \n",
            "tusharsingh1411/formula1-data-1950-2022                    🏎️ Formula1_GrandPrix_dataset               47KB  2023-02-09 20:18:07            316         24  0.9411765        \n",
            "slider2k/interest-rate                                      Interest Rate of Banks                      7KB  2023-02-08 11:38:08            356         23  0.9411765        \n"
          ]
        }
      ]
    },
    {
      "cell_type": "code",
      "source": [
        "!kaggle datasets download -d sanikamal/rock-paper-scissors-dataset"
      ],
      "metadata": {
        "colab": {
          "base_uri": "https://localhost:8080/"
        },
        "id": "0N_qVWrMyDQn",
        "outputId": "fb2edc28-7845-49d1-ba3a-cf45e4a08c24"
      },
      "execution_count": 7,
      "outputs": [
        {
          "output_type": "stream",
          "name": "stdout",
          "text": [
            "rock-paper-scissors-dataset.zip: Skipping, found more recently modified local copy (use --force to force download)\n"
          ]
        }
      ]
    },
    {
      "cell_type": "code",
      "source": [
        "!kaggle datasets download -d sanikamal/rock-paper-scissors-dataset\n",
        "!unzip /content/rock-paper-scissors-dataset.zip"
      ],
      "metadata": {
        "colab": {
          "base_uri": "https://localhost:8080/"
        },
        "id": "JAB1KVI9yDfM",
        "outputId": "4a40456f-62bb-4805-cfb3-062a9de3e102"
      },
      "execution_count": 8,
      "outputs": [
        {
          "output_type": "stream",
          "name": "stdout",
          "text": [
            "rock-paper-scissors-dataset.zip: Skipping, found more recently modified local copy (use --force to force download)\n",
            "Archive:  /content/rock-paper-scissors-dataset.zip\n",
            "replace Rock-Paper-Scissors/test/paper/testpaper01-00.png? [y]es, [n]o, [A]ll, [N]one, [r]ename: "
          ]
        }
      ]
    },
    {
      "cell_type": "code",
      "source": [
        "import tensorflow as tf\n",
        "from tensorflow import keras\n",
        "import numpy as np\n",
        "from keras.preprocessing.image import ImageDataGenerator\n",
        "import matplotlib.pyplot as plt\n",
        "from keras.models import Sequential\n",
        "from keras.layers import Dense, Conv2D, Flatten, Dropout, MaxPooling2D\n",
        "import logging\n"
      ],
      "metadata": {
        "id": "jCcUY0rMyDuM"
      },
      "execution_count": 9,
      "outputs": []
    },
    {
      "cell_type": "code",
      "source": [
        "train_dir = '/content/Rock-Paper-Scissors/train'\n",
        "test_dir = '/content/Rock-Paper-Scissors/test'\n",
        "validation_dir='/content/Rock-Paper-Scissors/validation'\n",
        "\n",
        "\n",
        "train_generator = ImageDataGenerator(\n",
        "    rescale=1./255,\n",
        "    vertical_flip=True,\n",
        "    horizontal_flip=True,\n",
        "    rotation_range=90,\n",
        "    height_shift_range=0.2,\n",
        "    width_shift_range=0.2,\n",
        "    zoom_range=0.2,\n",
        "    fill_mode='nearest',\n",
        "    validation_split=0.2 \n",
        ")\n",
        "\n",
        "test_generator = ImageDataGenerator(\n",
        "    rescale=1./255\n",
        ")\n",
        "\n",
        "\n",
        "\n",
        "# Create data generators\n",
        "train_images = train_generator.flow_from_directory(\n",
        "    train_dir,\n",
        "    target_size=(224, 224),\n",
        "    color_mode='rgb',\n",
        "    class_mode='categorical',\n",
        "    batch_size=32,\n",
        "    shuffle=True,\n",
        "    seed=42,\n",
        "    \n",
        ")\n",
        "\n",
        "val_images = train_generator.flow_from_directory(\n",
        "    train_dir,\n",
        "    target_size=(224, 224),\n",
        "    color_mode='rgb',\n",
        "    class_mode='categorical',\n",
        "    batch_size=32,\n",
        "    shuffle=True,\n",
        "    seed=42,\n",
        "     \n",
        ")\n",
        "\n",
        "test_images = test_generator.flow_from_directory(\n",
        "    test_dir,\n",
        "    target_size=(224, 224),\n",
        "    color_mode='rgb',\n",
        "    class_mode='categorical',\n",
        "    batch_size=32,\n",
        "    shuffle=False,\n",
        "    seed=42\n",
        ")\n",
        "\n"
      ],
      "metadata": {
        "colab": {
          "base_uri": "https://localhost:8080/"
        },
        "id": "2bxe9lJhyKyw",
        "outputId": "9cdd31e6-b126-4b90-dcde-55d0310e4b0f"
      },
      "execution_count": 27,
      "outputs": [
        {
          "output_type": "stream",
          "name": "stdout",
          "text": [
            "Found 2520 images belonging to 3 classes.\n",
            "Found 2520 images belonging to 3 classes.\n",
            "Found 372 images belonging to 3 classes.\n"
          ]
        }
      ]
    },
    {
      "cell_type": "code",
      "source": [
        "from tensorflow.keras.optimizers import Adam\n",
        "from keras.callbacks import EarlyStopping, ReduceLROnPlateau\n",
        "import tensorflow as tf\n",
        "from tensorflow import keras\n",
        "from tensorflow.keras import layers\n",
        "from tensorflow.keras.models import Sequential\n",
        "from tensorflow.keras.optimizers import Adam\n",
        "from tensorflow.keras.callbacks import EarlyStopping, ReduceLROnPlateau\n",
        "from tensorflow.keras.preprocessing.image import ImageDataGenerator\n",
        "from tensorflow.keras.models import Model\n"
      ],
      "metadata": {
        "id": "_g05yXgzyK-W"
      },
      "execution_count": 28,
      "outputs": []
    },
    {
      "cell_type": "code",
      "source": [
        "model = Sequential()\n",
        "\n",
        "model.add(Conv2D(32, (3,3), activation='relu', input_shape=(224, 224, 3)))\n",
        "model.add(MaxPooling2D(2,2))\n",
        "\n",
        "model.add(Conv2D(64, (3,3), activation='relu'))\n",
        "model.add(MaxPooling2D(2,2))\n",
        "\n",
        "model.add(Conv2D(128, (3,3), activation='relu'))\n",
        "model.add(MaxPooling2D(2,2))\n",
        "\n",
        "model.add(Flatten())\n",
        "model.add(Dense(128, activation='relu'))\n",
        "model.add(Dropout(0.5))\n",
        "model.add(Dense(64, activation='relu'))\n",
        "model.add(Dense(3, activation='softmax'))\n",
        "\n",
        "model.compile(optimizer=Adam(learning_rate=0.0001),\n",
        "              loss='categorical_crossentropy',\n",
        "              metrics=['accuracy'])\n",
        "\n",
        "history = model.fit(\n",
        "    train_images,\n",
        "    validation_data=val_images,\n",
        "    epochs=50,\n",
        "    verbose=1,\n",
        "    callbacks=[EarlyStopping(patience=5, restore_best_weights=True)]\n",
        ")\n",
        "import matplotlib.pyplot as plt\n",
        "\n",
        "# get training and validation loss from history object\n",
        "train_loss = history.history['loss']\n",
        "val_loss = history.history['val_loss']\n",
        "train_acc = history.history['accuracy']\n",
        "val_acc = history.history['val_accuracy']\n",
        "\n",
        "# create x-axis values for plot (epochs)\n",
        "epochs = range(1, len(train_loss) + 1)\n",
        "\n",
        "# plot training and validation loss over epochs\n",
        "plt.plot(epochs, train_loss, 'bo', label='Training loss')\n",
        "plt.plot(epochs, val_loss, 'b', label='Validation loss')\n",
        "plt.title('Training and Validation Loss')\n",
        "plt.xlabel('Epochs')\n",
        "plt.ylabel('Loss')\n",
        "plt.legend()\n",
        "plt.show()\n",
        "\n",
        "# plot training and validation accuracy over epochs\n",
        "plt.plot(epochs, train_acc, 'bo', label='Training accuracy')\n",
        "plt.plot(epochs, val_acc, 'b', label='Validation accuracy')\n",
        "plt.title('Training and Validation Accuracy')\n",
        "plt.xlabel('Epochs')\n",
        "plt.ylabel('Accuracy')\n",
        "plt.legend()\n",
        "plt.show()\n",
        "\n",
        "\n"
      ],
      "metadata": {
        "id": "tmjFargyyTIK",
        "colab": {
          "base_uri": "https://localhost:8080/",
          "height": 1000
        },
        "outputId": "feea87f8-9c54-4b70-f80d-df1566b9e5ed"
      },
      "execution_count": 29,
      "outputs": [
        {
          "output_type": "stream",
          "name": "stdout",
          "text": [
            "Epoch 1/50\n",
            "79/79 [==============================] - 78s 956ms/step - loss: 1.1216 - accuracy: 0.3329 - val_loss: 1.0968 - val_accuracy: 0.3333\n",
            "Epoch 2/50\n",
            "79/79 [==============================] - 64s 816ms/step - loss: 1.0929 - accuracy: 0.3698 - val_loss: 1.0799 - val_accuracy: 0.4976\n",
            "Epoch 3/50\n",
            "79/79 [==============================] - 74s 947ms/step - loss: 1.0740 - accuracy: 0.4123 - val_loss: 1.0401 - val_accuracy: 0.4595\n",
            "Epoch 4/50\n",
            "79/79 [==============================] - 74s 949ms/step - loss: 1.0383 - accuracy: 0.4429 - val_loss: 1.0023 - val_accuracy: 0.4778\n",
            "Epoch 5/50\n",
            "79/79 [==============================] - 65s 831ms/step - loss: 0.9998 - accuracy: 0.4853 - val_loss: 0.9265 - val_accuracy: 0.5556\n",
            "Epoch 6/50\n",
            "79/79 [==============================] - 65s 829ms/step - loss: 0.9222 - accuracy: 0.5429 - val_loss: 1.0120 - val_accuracy: 0.4437\n",
            "Epoch 7/50\n",
            "79/79 [==============================] - 65s 828ms/step - loss: 0.8821 - accuracy: 0.5647 - val_loss: 0.9060 - val_accuracy: 0.5444\n",
            "Epoch 8/50\n",
            "79/79 [==============================] - 65s 827ms/step - loss: 0.8239 - accuracy: 0.5968 - val_loss: 0.6996 - val_accuracy: 0.7155\n",
            "Epoch 9/50\n",
            "79/79 [==============================] - 66s 838ms/step - loss: 0.7856 - accuracy: 0.6246 - val_loss: 0.6564 - val_accuracy: 0.6992\n",
            "Epoch 10/50\n",
            "79/79 [==============================] - 65s 826ms/step - loss: 0.7281 - accuracy: 0.6472 - val_loss: 0.7454 - val_accuracy: 0.6214\n",
            "Epoch 11/50\n",
            "79/79 [==============================] - 64s 817ms/step - loss: 0.7230 - accuracy: 0.6524 - val_loss: 0.6344 - val_accuracy: 0.7147\n",
            "Epoch 12/50\n",
            "79/79 [==============================] - 64s 815ms/step - loss: 0.6665 - accuracy: 0.6885 - val_loss: 0.5497 - val_accuracy: 0.7619\n",
            "Epoch 13/50\n",
            "79/79 [==============================] - 64s 812ms/step - loss: 0.6388 - accuracy: 0.7103 - val_loss: 0.5033 - val_accuracy: 0.8302\n",
            "Epoch 14/50\n",
            "79/79 [==============================] - 65s 831ms/step - loss: 0.6109 - accuracy: 0.7242 - val_loss: 0.5565 - val_accuracy: 0.7476\n",
            "Epoch 15/50\n",
            "79/79 [==============================] - 65s 823ms/step - loss: 0.6140 - accuracy: 0.7250 - val_loss: 0.5005 - val_accuracy: 0.8127\n",
            "Epoch 16/50\n",
            "79/79 [==============================] - 64s 817ms/step - loss: 0.5633 - accuracy: 0.7496 - val_loss: 0.7434 - val_accuracy: 0.6393\n",
            "Epoch 17/50\n",
            "79/79 [==============================] - 64s 816ms/step - loss: 0.5726 - accuracy: 0.7452 - val_loss: 0.4264 - val_accuracy: 0.8437\n",
            "Epoch 18/50\n",
            "79/79 [==============================] - 64s 818ms/step - loss: 0.5300 - accuracy: 0.7778 - val_loss: 0.4026 - val_accuracy: 0.8429\n",
            "Epoch 19/50\n",
            "79/79 [==============================] - 65s 824ms/step - loss: 0.5250 - accuracy: 0.7762 - val_loss: 0.4801 - val_accuracy: 0.7937\n",
            "Epoch 20/50\n",
            "79/79 [==============================] - 64s 818ms/step - loss: 0.5252 - accuracy: 0.7746 - val_loss: 0.4153 - val_accuracy: 0.8544\n",
            "Epoch 21/50\n",
            "79/79 [==============================] - 64s 817ms/step - loss: 0.4888 - accuracy: 0.7873 - val_loss: 0.3638 - val_accuracy: 0.8829\n",
            "Epoch 22/50\n",
            "79/79 [==============================] - 64s 817ms/step - loss: 0.4555 - accuracy: 0.8067 - val_loss: 0.3877 - val_accuracy: 0.8464\n",
            "Epoch 23/50\n",
            "79/79 [==============================] - 64s 815ms/step - loss: 0.5009 - accuracy: 0.7794 - val_loss: 0.3955 - val_accuracy: 0.8544\n",
            "Epoch 24/50\n",
            "79/79 [==============================] - 65s 829ms/step - loss: 0.4680 - accuracy: 0.8020 - val_loss: 0.4627 - val_accuracy: 0.8036\n",
            "Epoch 25/50\n",
            "79/79 [==============================] - 64s 815ms/step - loss: 0.4114 - accuracy: 0.8278 - val_loss: 0.2993 - val_accuracy: 0.9016\n",
            "Epoch 26/50\n",
            "79/79 [==============================] - 73s 934ms/step - loss: 0.5049 - accuracy: 0.7730 - val_loss: 0.4729 - val_accuracy: 0.8135\n",
            "Epoch 27/50\n",
            "79/79 [==============================] - 64s 812ms/step - loss: 0.4210 - accuracy: 0.8290 - val_loss: 0.2823 - val_accuracy: 0.9063\n",
            "Epoch 28/50\n",
            "79/79 [==============================] - 64s 810ms/step - loss: 0.4032 - accuracy: 0.8377 - val_loss: 0.4263 - val_accuracy: 0.8206\n",
            "Epoch 29/50\n",
            "79/79 [==============================] - 64s 815ms/step - loss: 0.4005 - accuracy: 0.8353 - val_loss: 0.2698 - val_accuracy: 0.9095\n",
            "Epoch 30/50\n",
            "79/79 [==============================] - 74s 948ms/step - loss: 0.4009 - accuracy: 0.8480 - val_loss: 0.2711 - val_accuracy: 0.9107\n",
            "Epoch 31/50\n",
            "79/79 [==============================] - 65s 827ms/step - loss: 0.3948 - accuracy: 0.8444 - val_loss: 0.2840 - val_accuracy: 0.8940\n",
            "Epoch 32/50\n",
            "79/79 [==============================] - 64s 818ms/step - loss: 0.3910 - accuracy: 0.8480 - val_loss: 0.2703 - val_accuracy: 0.9155\n",
            "Epoch 33/50\n",
            "79/79 [==============================] - 64s 817ms/step - loss: 0.3841 - accuracy: 0.8417 - val_loss: 0.2868 - val_accuracy: 0.9079\n",
            "Epoch 34/50\n",
            "79/79 [==============================] - 65s 820ms/step - loss: 0.3804 - accuracy: 0.8472 - val_loss: 0.2658 - val_accuracy: 0.9238\n",
            "Epoch 35/50\n",
            "79/79 [==============================] - 64s 820ms/step - loss: 0.3655 - accuracy: 0.8571 - val_loss: 0.3559 - val_accuracy: 0.8508\n",
            "Epoch 36/50\n",
            "79/79 [==============================] - 64s 819ms/step - loss: 0.3649 - accuracy: 0.8496 - val_loss: 0.2958 - val_accuracy: 0.8905\n",
            "Epoch 37/50\n",
            "79/79 [==============================] - 64s 817ms/step - loss: 0.3382 - accuracy: 0.8623 - val_loss: 0.2047 - val_accuracy: 0.9369\n",
            "Epoch 38/50\n",
            "79/79 [==============================] - 65s 821ms/step - loss: 0.3397 - accuracy: 0.8754 - val_loss: 0.2428 - val_accuracy: 0.9075\n",
            "Epoch 39/50\n",
            "79/79 [==============================] - 65s 822ms/step - loss: 0.3096 - accuracy: 0.8798 - val_loss: 0.2055 - val_accuracy: 0.9329\n",
            "Epoch 40/50\n",
            "79/79 [==============================] - 64s 815ms/step - loss: 0.3345 - accuracy: 0.8698 - val_loss: 0.2704 - val_accuracy: 0.8857\n",
            "Epoch 41/50\n",
            "79/79 [==============================] - 64s 813ms/step - loss: 0.3099 - accuracy: 0.8794 - val_loss: 0.2442 - val_accuracy: 0.9083\n",
            "Epoch 42/50\n",
            "79/79 [==============================] - 64s 814ms/step - loss: 0.3005 - accuracy: 0.8849 - val_loss: 0.1903 - val_accuracy: 0.9385\n",
            "Epoch 43/50\n",
            "79/79 [==============================] - 63s 808ms/step - loss: 0.3046 - accuracy: 0.8730 - val_loss: 0.3670 - val_accuracy: 0.8349\n",
            "Epoch 44/50\n",
            "79/79 [==============================] - 63s 806ms/step - loss: 0.3174 - accuracy: 0.8738 - val_loss: 0.1943 - val_accuracy: 0.9472\n",
            "Epoch 45/50\n",
            "79/79 [==============================] - 74s 945ms/step - loss: 0.2982 - accuracy: 0.8798 - val_loss: 0.1962 - val_accuracy: 0.9377\n",
            "Epoch 46/50\n",
            "79/79 [==============================] - 64s 819ms/step - loss: 0.2761 - accuracy: 0.8996 - val_loss: 0.2106 - val_accuracy: 0.9238\n",
            "Epoch 47/50\n",
            "79/79 [==============================] - 64s 815ms/step - loss: 0.3059 - accuracy: 0.8821 - val_loss: 0.1747 - val_accuracy: 0.9429\n",
            "Epoch 48/50\n",
            "79/79 [==============================] - 63s 807ms/step - loss: 0.2775 - accuracy: 0.8937 - val_loss: 0.1746 - val_accuracy: 0.9437\n",
            "Epoch 49/50\n",
            "79/79 [==============================] - 65s 821ms/step - loss: 0.2874 - accuracy: 0.8821 - val_loss: 0.1920 - val_accuracy: 0.9349\n",
            "Epoch 50/50\n",
            "79/79 [==============================] - 64s 810ms/step - loss: 0.2703 - accuracy: 0.9036 - val_loss: 0.1689 - val_accuracy: 0.9460\n"
          ]
        },
        {
          "output_type": "display_data",
          "data": {
            "text/plain": [
              "<Figure size 432x288 with 1 Axes>"
            ],
            "image/png": "[encoded data removed]"
          },
          "metadata": {
            "needs_background": "light"
          }
        },
        {
          "output_type": "display_data",
          "data": {
            "text/plain": [
              "<Figure size 432x288 with 1 Axes>"
            ],
            "image/png": "[encoded data removed]"
          },
          "metadata": {
            "needs_background": "light"
          }
        }
      ]
    },
    {
      "cell_type": "code",
      "source": [
        "model.save(\"/content/my_model.h5\")"
      ],
      "metadata": {
        "id": "mWVkjKCkyTTa"
      },
      "execution_count": 30,
      "outputs": []
    },
    {
      "cell_type": "code",
      "source": [
        "!ls -lha"
      ],
      "metadata": {
        "colab": {
          "base_uri": "https://localhost:8080/"
        },
        "id": "yq8vXrF2ydky",
        "outputId": "f3a3e21f-223b-456b-dce0-901c5d109a1d"
      },
      "execution_count": 31,
      "outputs": [
        {
          "output_type": "stream",
          "name": "stdout",
          "text": [
            "total 581M\n",
            "drwxr-xr-x 1 root root 4.0K Feb 18 14:28  .\n",
            "drwxr-xr-x 1 root root 4.0K Feb 18 12:30  ..\n",
            "drwxr-xr-x 4 root root 4.0K Feb 17 19:29  .config\n",
            "-rw-r--r-- 1 root root   64 Feb 18 14:04 'kaggle (1).json'\n",
            "-rw-r--r-- 1 root root   64 Feb 18 14:12 'kaggle (2).json'\n",
            "-rw-r--r-- 1 root root   64 Feb 18 14:28 'kaggle (3).json'\n",
            "-rw-r--r-- 1 root root   64 Feb 18 12:33  kaggle.json\n",
            "-rw-r--r-- 1 root root 128M Feb 18 16:15  my_model.h5\n",
            "drwxr-xr-x 3 root root 4.0K Feb 18 12:33  rock-paper-scissors\n",
            "drwxr-xr-x 5 root root 4.0K Feb 18 12:33  Rock-Paper-Scissors\n",
            "-rw-r--r-- 1 root root 453M Feb 18 12:33  rock-paper-scissors-dataset.zip\n",
            "drwxr-xr-x 1 root root 4.0K Feb 17 19:30  sample_data\n"
          ]
        }
      ]
    },
    {
      "cell_type": "code",
      "source": [
        "from google.colab import files\n",
        "files.download(\"/content/my_model.h5\")"
      ],
      "metadata": {
        "colab": {
          "base_uri": "https://localhost:8080/",
          "height": 17
        },
        "id": "j40i9DrKyd0R",
        "outputId": "fc2a43f2-4fa5-4e95-951a-7f017fb869b2"
      },
      "execution_count": 32,
      "outputs": [
        {
          "output_type": "display_data",
          "data": {
            "text/plain": [
              "<IPython.core.display.Javascript object>"
            ],
            "application/javascript": [
              "\n",
              "    async function download(id, filename, size) {\n",
              "      if (!google.colab.kernel.accessAllowed) {\n",
              "        return;\n",
              "      }\n",
              "      const div = document.createElement('div');\n",
              "      const label = document.createElement('label');\n",
              "      label.textContent = `Downloading \"${filename}\": `;\n",
              "      div.appendChild(label);\n",
              "      const progress = document.createElement('progress');\n",
              "      progress.max = size;\n",
              "      div.appendChild(progress);\n",
              "      document.body.appendChild(div);\n",
              "\n",
              "      const buffers = [];\n",
              "      let downloaded = 0;\n",
              "\n",
              "      const channel = await google.colab.kernel.comms.open(id);\n",
              "      // Send a message to notify the kernel that we're ready.\n",
              "      channel.send({})\n",
              "\n",
              "      for await (const message of channel.messages) {\n",
              "        // Send a message to notify the kernel that we're ready.\n",
              "        channel.send({})\n",
              "        if (message.buffers) {\n",
              "          for (const buffer of message.buffers) {\n",
              "            buffers.push(buffer);\n",
              "            downloaded += buffer.byteLength;\n",
              "            progress.value = downloaded;\n",
              "          }\n",
              "        }\n",
              "      }\n",
              "      const blob = new Blob(buffers, {type: 'application/binary'});\n",
              "      const a = document.createElement('a');\n",
              "      a.href = window.URL.createObjectURL(blob);\n",
              "      a.download = filename;\n",
              "      div.appendChild(a);\n",
              "      a.click();\n",
              "      div.remove();\n",
              "    }\n",
              "  "
            ]
          },
          "metadata": {}
        },
        {
          "output_type": "display_data",
          "data": {
            "text/plain": [
              "<IPython.core.display.Javascript object>"
            ],
            "application/javascript": [
              "download(\"download_4ac86e86-3369-4c1e-8017-c968704bacb0\", \"my_model.h5\", 134187712)"
            ]
          },
          "metadata": {}
        }
      ]
    }
  ]
}